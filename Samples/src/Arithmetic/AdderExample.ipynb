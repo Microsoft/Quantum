{
 "cells": [
  {
   "cell_type": "markdown",
   "metadata": {},
   "source": [
    "## Integer arithmetic\n",
    "\n",
    "Many quantum algorithms need to evaluate classical functions on a superposition of inputs. An example is Shor's algorithm, which requires the mapping $|x\\rangle|0\\rangle\\mapsto|x\\rangle|a^x\\text{ mod }N\\rangle$ to be implemented as a quantum operation.\n",
    "\n",
    "To keep users from having to implement such functions from scratch, the canon ([`Microsoft.Quantum.Canon`](https://docs.microsoft.com/qsharp/api/canon/microsoft.quantum.canon)) contains arithmetic functionality such as integer adders."
   ]
  },
  {
   "cell_type": "markdown",
   "metadata": {},
   "source": [
    "Let's write a wrapper for one of these adders, that of [Takahashi *et al.*](https://arxiv.org/abs/0910.2530). This will allow us to quickly exchange it for a different implementation if need be."
   ]
  },
  {
   "cell_type": "code",
   "execution_count": 1,
   "metadata": {
    "scrolled": true
   },
   "outputs": [
    {
     "data": {
      "application/json": "[\"Add\"]",
      "text/html": [
       "<ul><li>Add</li></ul>"
      ],
      "text/plain": [
       "Add"
      ]
     },
     "execution_count": 1,
     "metadata": {},
     "output_type": "execute_result"
    }
   ],
   "source": [
    "open Microsoft.Quantum.Arithmetic;\n",
    "\n",
    "operation Add(qint1 : LittleEndian, qint2 : LittleEndian, carry : Qubit) : Unit {\n",
    "    Message(\"[Using the adder by Takahashi et al. (arXiv:0910.2530)]\");\n",
    "    RippleCarryAdderTTK(qint1, qint2, carry);\n",
    "}"
   ]
  },
  {
   "cell_type": "markdown",
   "metadata": {},
   "source": [
    "### Running the adder\n",
    "\n",
    "We can now use this wrapper in our code as a subroutine. As an example, let's write an operation that initializes two quantum integers to classical values (e.g., 4 and 5) before calling our `Add` operation."
   ]
  },
  {
   "cell_type": "code",
   "execution_count": 2,
   "metadata": {},
   "outputs": [
    {
     "data": {
      "application/json": "[\"TestAddition\"]",
      "text/html": [
       "<ul><li>TestAddition</li></ul>"
      ],
      "text/plain": [
       "TestAddition"
      ]
     },
     "execution_count": 2,
     "metadata": {},
     "output_type": "execute_result"
    }
   ],
   "source": [
    "open Microsoft.Quantum.Arithmetic;\n",
    "open Microsoft.Quantum.Measurement;\n",
    "\n",
    "operation TestAddition() : Int {\n",
    "    let firstNumber = 4;\n",
    "    let secondNumber = 5;\n",
    "    let numBits = 3;\n",
    "\n",
    "    mutable result = 0;\n",
    "    Message($\"Calculating {firstNumber} + {secondNumber}...\");\n",
    "    using ((register1, register2, carry) = (Qubit[numBits], Qubit[numBits], Qubit())) {\n",
    "        let qint1 = LittleEndian(register1);\n",
    "        let qint2 = LittleEndian(register2);\n",
    "        \n",
    "        // initialize the two quantum integers:\n",
    "        ApplyXorInPlace(firstNumber, qint1);\n",
    "        ApplyXorInPlace(secondNumber, qint2);\n",
    "        \n",
    "        // perform addition\n",
    "        Add(qint1, qint2, carry);\n",
    "        \n",
    "        // and measure the result\n",
    "        let mCarry = (MResetZ(carry) == One) ? 1 | 0;\n",
    "        set result = 2^numBits * mCarry + MeasureInteger(qint2);\n",
    "        ResetAll(register1 + register2);\n",
    "    }\n",
    "\n",
    "    // Return the measured result\n",
    "    return result;\n",
    "}"
   ]
  },
  {
   "cell_type": "markdown",
   "metadata": {},
   "source": [
    "We can now test our adder using the simulator:"
   ]
  },
  {
   "cell_type": "code",
   "execution_count": 3,
   "metadata": {},
   "outputs": [
    {
     "name": "stdout",
     "output_type": "stream",
     "text": [
      "Calculating 4 + 5...\n",
      "[Using the adder by Takahashi et al. (arXiv:0910.2530)]\n"
     ]
    },
    {
     "data": {
      "application/json": "9",
      "text/plain": [
       "9"
      ]
     },
     "execution_count": 3,
     "metadata": {},
     "output_type": "execute_result"
    }
   ],
   "source": [
    "%simulate TestAddition "
   ]
  },
  {
   "cell_type": "markdown",
   "metadata": {},
   "source": [
    "### Exchanging implementations\n",
    "Furthermore, we can quickly change the underlying adder implementation, e.g., to that of [Cuccaro *et al.*](https://arxiv.org/abs/quant-ph/0410184):"
   ]
  },
  {
   "cell_type": "code",
   "execution_count": 4,
   "metadata": {},
   "outputs": [
    {
     "data": {
      "application/json": "[\"Add\"]",
      "text/html": [
       "<ul><li>Add</li></ul>"
      ],
      "text/plain": [
       "Add"
      ]
     },
     "execution_count": 4,
     "metadata": {},
     "output_type": "execute_result"
    }
   ],
   "source": [
    "open Microsoft.Quantum.Arithmetic;\n",
    "\n",
    "operation Add(qint1 : LittleEndian, qint2 : LittleEndian, carry : Qubit) : Unit {\n",
    "    Message(\"[Using the adder by Cuccaro et al. (arXiv:0410184v1)]\");\n",
    "    RippleCarryAdderCDKM(qint1, qint2, carry);\n",
    "}"
   ]
  },
  {
   "cell_type": "markdown",
   "metadata": {},
   "source": [
    "Let's run our `TestAddition` operation again on the simulator:"
   ]
  },
  {
   "cell_type": "code",
   "execution_count": 5,
   "metadata": {},
   "outputs": [
    {
     "name": "stdout",
     "output_type": "stream",
     "text": [
      "Calculating 4 + 5...\n",
      "[Using the adder by Cuccaro et al. (arXiv:0410184v1)]\n"
     ]
    },
    {
     "data": {
      "application/json": "9",
      "text/plain": [
       "9"
      ]
     },
     "execution_count": 5,
     "metadata": {},
     "output_type": "execute_result"
    }
   ],
   "source": [
    "%simulate TestAddition"
   ]
  },
  {
   "cell_type": "markdown",
   "metadata": {},
   "source": [
    "### Version information\n",
    "This notebook was last executed with:"
   ]
  },
  {
   "cell_type": "code",
   "execution_count": 6,
   "metadata": {},
   "outputs": [
    {
     "data": {
      "application/json": "{\"rows\":[{\"@type\":\"@tuple\",\"Item1\":\"iqsharp\",\"Item2\":\"0.8.1907.1701\"},{\"@type\":\"@tuple\",\"Item1\":\"Jupyter Core\",\"Item2\":\"1.1.14623.0\"}]}",
      "text/html": [
       "<table><thead><tr><th>Component</th><th>Version</th></tr></thead><tbody><tr><td>iqsharp</td><td>0.8.1907.1701</td></tr><tr><td>Jupyter Core</td><td>1.1.14623.0</td></tr></tbody></table>"
      ],
      "text/plain": [
       "Component    Version\n",
       "------------ -------------\n",
       "iqsharp      0.8.1907.1701\n",
       "Jupyter Core 1.1.14623.0\n"
      ]
     },
     "metadata": {},
     "output_type": "display_data"
    }
   ],
   "source": [
    "%version"
   ]
  },
  {
   "cell_type": "code",
   "execution_count": null,
   "metadata": {},
   "outputs": [],
   "source": []
  }
 ],
 "metadata": {
  "kernelspec": {
   "display_name": "Q#",
   "language": "qsharp",
   "name": "iqsharp"
  },
  "language_info": {
   "file_extension": ".qs",
   "mimetype": "text/x-qsharp",
   "name": "qsharp",
   "version": "0.4"
  }
 },
 "nbformat": 4,
 "nbformat_minor": 2
}
