{
 "cells": [
  {
   "cell_type": "markdown",
   "metadata": {},
   "source": [
    "## Integer arithmetic\n",
    "\n",
    "Many quantum algorithms need to evaluate classical functions on a superposition of inputs. An example is Shor's algorithm, which requires the mapping $|x\\rangle|0\\rangle\\mapsto|x\\rangle|a^x\\text{ mod }N\\rangle$ to be implemented as a quantum operation.\n",
    "\n",
    "To keep users from having to implement such functions from scratch, the Canon (`Microsoft.Quantum.Canon`) contains arithmetic functionality such as integer adders."
   ]
  },
  {
   "cell_type": "markdown",
   "metadata": {},
   "source": [
    "Let's write a wrapper for one of these adders. This will allow us to quickly exchange it for a different implementation if need be."
   ]
  },
  {
   "cell_type": "code",
   "execution_count": 1,
   "metadata": {
    "scrolled": true
   },
   "outputs": [
    {
     "data": {
      "application/json": "[\"Add\"]",
      "text/html": [
       "<ul><li>Add</li></ul>"
      ],
      "text/plain": [
       "Add"
      ]
     },
     "execution_count": 1,
     "metadata": {},
     "output_type": "execute_result"
    }
   ],
   "source": [
    "operation Add(qint1 : LittleEndian, qint2 : LittleEndian, carry : Qubit) : Unit {\n",
    "    Message(\"[Using the adder by Takahashi et al. (arXiv:0910.2530)]\");\n",
    "    RippleCarryAdderTTK(qint1, qint2, carry);\n",
    "}"
   ]
  },
  {
   "cell_type": "markdown",
   "metadata": {},
   "source": [
    "### Running the adder\n",
    "\n",
    "We can now use this wrapper in our code as a subroutine. As an example, let's write a function that initializes two quantum integers to classical values (e.g., 4 and 5) before calling our `Add` operation."
   ]
  },
  {
   "cell_type": "code",
   "execution_count": 2,
   "metadata": {},
   "outputs": [
    {
     "data": {
      "application/json": "[\"TestAddition\"]",
      "text/html": [
       "<ul><li>TestAddition</li></ul>"
      ],
      "text/plain": [
       "TestAddition"
      ]
     },
     "execution_count": 2,
     "metadata": {},
     "output_type": "execute_result"
    }
   ],
   "source": [
    "operation TestAddition() : Int {\n",
    "    let firstNumber = 4;\n",
    "    let secondNumber = 5;\n",
    "    let numBits = 3;\n",
    "\n",
    "    mutable result = 0;\n",
    "    Message($\"Calculating {firstNumber} + {secondNumber}...\");\n",
    "    using ((register1, register2, carry) = (Qubit[numBits], Qubit[numBits], Qubit())) {\n",
    "        let qint1 = LittleEndian(register1);\n",
    "        let qint2 = LittleEndian(register2);\n",
    "        \n",
    "        // initialize the two quantum integers:\n",
    "        InPlaceXorLE(firstNumber, qint1);\n",
    "        InPlaceXorLE(secondNumber, qint2);\n",
    "        \n",
    "        // perform addition\n",
    "        Add(qint1, qint2, carry);\n",
    "        \n",
    "        // and measure the result\n",
    "        let mCarry = (MResetZ(carry) == One) ? 1 | 0;\n",
    "        set result = 2^numBits * mCarry + MeasureInteger(qint2);\n",
    "        ResetAll(register1 + register2);\n",
    "    }\n",
    "\n",
    "    // Return the measured result\n",
    "    return result;\n",
    "}"
   ]
  },
  {
   "cell_type": "markdown",
   "metadata": {},
   "source": [
    "We can now test our adder using the simulator:"
   ]
  },
  {
   "cell_type": "code",
   "execution_count": 3,
   "metadata": {},
   "outputs": [
    {
     "name": "stdout",
     "output_type": "stream",
     "text": [
      "Calculating 4 + 5...\n",
      "[Using the adder by Takahashi et al. (arXiv:0910.2530)]\n"
     ]
    },
    {
     "data": {
      "application/json": "9",
      "text/plain": [
       "9"
      ]
     },
     "execution_count": 3,
     "metadata": {},
     "output_type": "execute_result"
    }
   ],
   "source": [
    "%simulate TestAddition "
   ]
  },
  {
   "cell_type": "markdown",
   "metadata": {},
   "source": [
    "### Exchanging implementations\n",
    "Furthermore, we can quickly exchange the underlying adder implementation as follows:"
   ]
  },
  {
   "cell_type": "code",
   "execution_count": 4,
   "metadata": {},
   "outputs": [
    {
     "data": {
      "application/json": "[\"Add\"]",
      "text/html": [
       "<ul><li>Add</li></ul>"
      ],
      "text/plain": [
       "Add"
      ]
     },
     "execution_count": 4,
     "metadata": {},
     "output_type": "execute_result"
    }
   ],
   "source": [
    "operation Add(qint1 : LittleEndian, qint2 : LittleEndian, carry : Qubit) : Unit {\n",
    "    Message(\"[Using the adder by Cuccaro et al. (arXiv:0410184v1)]\");\n",
    "    RippleCarryAdderCDKM(qint1, qint2, carry);\n",
    "}"
   ]
  },
  {
   "cell_type": "markdown",
   "metadata": {},
   "source": [
    "Let's run our `TestAddition` operation again on the simulator:"
   ]
  },
  {
   "cell_type": "code",
   "execution_count": 5,
   "metadata": {},
   "outputs": [
    {
     "name": "stdout",
     "output_type": "stream",
     "text": [
      "Calculating 4 + 5...\n",
      "[Using the adder by Cuccaro et al. (arXiv:0410184v1)]\n"
     ]
    },
    {
     "data": {
      "application/json": "9",
      "text/plain": [
       "9"
      ]
     },
     "execution_count": 5,
     "metadata": {},
     "output_type": "execute_result"
    }
   ],
   "source": [
    "%simulate TestAddition"
   ]
  }
 ],
 "metadata": {
  "kernelspec": {
   "display_name": "Q#",
   "language": "Q#",
   "name": "iqsharp"
  },
  "language_info": {
   "file_extension": ".qs",
   "mimetype": "text/plain",
   "name": "Q#",
   "version": "0.4"
  }
 },
 "nbformat": 4,
 "nbformat_minor": 2
}
